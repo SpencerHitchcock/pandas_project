{
 "cells": [
  {
   "cell_type": "code",
   "execution_count": 1,
   "metadata": {},
   "outputs": [],
   "source": [
    "import os\n",
    "import pandas as pd"
   ]
  },
  {
   "cell_type": "code",
   "execution_count": 16,
   "metadata": {
    "scrolled": true
   },
   "outputs": [
    {
     "data": {
      "text/html": [
       "<div>\n",
       "<style scoped>\n",
       "    .dataframe tbody tr th:only-of-type {\n",
       "        vertical-align: middle;\n",
       "    }\n",
       "\n",
       "    .dataframe tbody tr th {\n",
       "        vertical-align: top;\n",
       "    }\n",
       "\n",
       "    .dataframe thead th {\n",
       "        text-align: right;\n",
       "    }\n",
       "</style>\n",
       "<table border=\"1\" class=\"dataframe\">\n",
       "  <thead>\n",
       "    <tr style=\"text-align: right;\">\n",
       "      <th></th>\n",
       "      <th>Purchase ID</th>\n",
       "      <th>SN</th>\n",
       "      <th>Age</th>\n",
       "      <th>Gender</th>\n",
       "      <th>Item ID</th>\n",
       "      <th>Item Name</th>\n",
       "      <th>Price</th>\n",
       "    </tr>\n",
       "  </thead>\n",
       "  <tbody>\n",
       "    <tr>\n",
       "      <th>0</th>\n",
       "      <td>0</td>\n",
       "      <td>Lisim78</td>\n",
       "      <td>20</td>\n",
       "      <td>Male</td>\n",
       "      <td>108</td>\n",
       "      <td>Extraction, Quickblade Of Trembling Hands</td>\n",
       "      <td>3.53</td>\n",
       "    </tr>\n",
       "    <tr>\n",
       "      <th>1</th>\n",
       "      <td>1</td>\n",
       "      <td>Lisovynya38</td>\n",
       "      <td>40</td>\n",
       "      <td>Male</td>\n",
       "      <td>143</td>\n",
       "      <td>Frenzied Scimitar</td>\n",
       "      <td>1.56</td>\n",
       "    </tr>\n",
       "    <tr>\n",
       "      <th>2</th>\n",
       "      <td>2</td>\n",
       "      <td>Ithergue48</td>\n",
       "      <td>24</td>\n",
       "      <td>Male</td>\n",
       "      <td>92</td>\n",
       "      <td>Final Critic</td>\n",
       "      <td>4.88</td>\n",
       "    </tr>\n",
       "    <tr>\n",
       "      <th>3</th>\n",
       "      <td>3</td>\n",
       "      <td>Chamassasya86</td>\n",
       "      <td>24</td>\n",
       "      <td>Male</td>\n",
       "      <td>100</td>\n",
       "      <td>Blindscythe</td>\n",
       "      <td>3.27</td>\n",
       "    </tr>\n",
       "    <tr>\n",
       "      <th>4</th>\n",
       "      <td>4</td>\n",
       "      <td>Iskosia90</td>\n",
       "      <td>23</td>\n",
       "      <td>Male</td>\n",
       "      <td>131</td>\n",
       "      <td>Fury</td>\n",
       "      <td>1.44</td>\n",
       "    </tr>\n",
       "  </tbody>\n",
       "</table>\n",
       "</div>"
      ],
      "text/plain": [
       "   Purchase ID             SN  Age Gender  Item ID  \\\n",
       "0            0        Lisim78   20   Male      108   \n",
       "1            1    Lisovynya38   40   Male      143   \n",
       "2            2     Ithergue48   24   Male       92   \n",
       "3            3  Chamassasya86   24   Male      100   \n",
       "4            4      Iskosia90   23   Male      131   \n",
       "\n",
       "                                   Item Name  Price  \n",
       "0  Extraction, Quickblade Of Trembling Hands   3.53  \n",
       "1                          Frenzied Scimitar   1.56  \n",
       "2                               Final Critic   4.88  \n",
       "3                                Blindscythe   3.27  \n",
       "4                                       Fury   1.44  "
      ]
     },
     "execution_count": 16,
     "metadata": {},
     "output_type": "execute_result"
    }
   ],
   "source": [
    "csv_path = \"../Resources/purchase_data.csv\"\n",
    "purchase_df = pd.read_csv(csv_path)\n",
    "\n",
    "copy_df = purchase_df\n",
    "\n",
    "purchase_df.head()\n",
    "\n"
   ]
  },
  {
   "cell_type": "code",
   "execution_count": 3,
   "metadata": {},
   "outputs": [
    {
     "name": "stdout",
     "output_type": "stream",
     "text": [
      "Total number of players:  576\n"
     ]
    }
   ],
   "source": [
    "players = purchase_df['SN'].value_counts()\n",
    "u_players = players.count()\n",
    "print(\"Total number of players: \", u_players)"
   ]
  },
  {
   "cell_type": "code",
   "execution_count": 4,
   "metadata": {},
   "outputs": [
    {
     "name": "stdout",
     "output_type": "stream",
     "text": [
      "Number of unique items:  183\n",
      "Average Purchase: $ 3.050987179487176\n",
      "Total Number of Purchases:  780\n",
      "Total revenue: $ 2379.77\n"
     ]
    }
   ],
   "source": [
    "### Purchasing Analysis (Total)\n",
    "\n",
    "items = purchase_df['Item ID'].value_counts()\n",
    "u_items = items.count()\n",
    "print(\"Number of unique items: \", u_items)\n",
    "\n",
    "\n",
    "purchase_df[\"Item Name\"].unique()\n",
    "\n",
    "# Average Purchase Price\n",
    "\n",
    "average_purchase = purchase_df['Price'].mean()\n",
    "print(\"Average Purchase: $\", average_purchase)\n",
    "\n",
    "# Total Number of Purchases\n",
    "number_of_purchases = purchase_df['Purchase ID'].count()\n",
    "print(\"Total Number of Purchases: \", number_of_purchases)\n",
    "\n",
    "total_rev = purchase_df['Price'].sum()\n",
    "print(\"Total revenue: $\", total_rev)"
   ]
  },
  {
   "cell_type": "code",
   "execution_count": 5,
   "metadata": {},
   "outputs": [
    {
     "name": "stdout",
     "output_type": "stream",
     "text": [
      "Male                     652\n",
      "Female                   113\n",
      "Other / Non-Disclosed     15\n",
      "Name: Gender, dtype: int64\n",
      "Male                     83.589744\n",
      "Female                   14.487179\n",
      "Other / Non-Disclosed     1.923077\n",
      "Name: Gender, dtype: float64\n"
     ]
    }
   ],
   "source": [
    "### Gender Demographics\n",
    "\n",
    "gender_counts = purchase_df['Gender'].value_counts()\n",
    "print(gender_counts)\n",
    "\n",
    "\n",
    "print((purchase_df['Gender'].value_counts()/purchase_df['Gender'].count())*100)\n",
    "# female_p\n",
    "# other_p\n",
    "\n",
    "# Percentage and Count of Male Players\n",
    "# Percentage and Count of Female Players\n",
    "# Percentage and Count of Other / Non-Disclosed\n"
   ]
  },
  {
   "cell_type": "code",
   "execution_count": 10,
   "metadata": {},
   "outputs": [
    {
     "name": "stdout",
     "output_type": "stream",
     "text": [
      "Analysis of male purchases...\n",
      "Total Number of Purchases:  652\n",
      "Average Purchase: $ 3.0178527607361953\n",
      "Total revenue: $ 1967.64\n",
      "---\n",
      "Analysis of female purchases...\n",
      "Total Number of Purchases:  113\n",
      "Average Purchase: $ 3.203008849557519\n",
      "Total revenue: $ 361.94\n",
      "---\n",
      "Analysis of Non-Disclosed purchases...\n",
      "Total Number of Purchases:  15\n",
      "Average Purchase: $ 3.3460000000000005\n",
      "Total revenue: $ 50.19\n"
     ]
    }
   ],
   "source": [
    "### Purchasing Analysis (Gender)\n",
    "\n",
    "# The below each broken by gender\n",
    " # Purchase Count\n",
    " # Average Purchase Price\n",
    " # Total Purchase Value\n",
    " # Average Purchase Total per Person by Gender\n",
    "print('Analysis of male purchases...')\n",
    "male_df = purchase_df.loc[purchase_df[\"Gender\"] == \"Male\"]\n",
    "number_of_male_purchases = male_df['Purchase ID'].count()\n",
    "print(\"Total Number of Purchases: \", number_of_male_purchases)\n",
    "average_male_purchase = male_df['Price'].mean()\n",
    "print(\"Average Purchase: $\", average_male_purchase)\n",
    "total_male_rev = male_df['Price'].sum()\n",
    "print(\"Total revenue: $\", total_male_rev)\n",
    "print('---')\n",
    "\n",
    "print('Analysis of female purchases...')\n",
    "female_df = purchase_df.loc[purchase_df[\"Gender\"] == \"Female\"]\n",
    "number_of_female_purchases = female_df['Purchase ID'].count()\n",
    "print(\"Total Number of Purchases: \", number_of_female_purchases)\n",
    "average_female_purchase = female_df['Price'].mean()\n",
    "print(\"Average Purchase: $\", average_female_purchase)\n",
    "total_female_rev = female_df['Price'].sum()\n",
    "print(\"Total revenue: $\", total_female_rev)\n",
    "print('---')\n",
    "\n",
    "print('Analysis of Non-Disclosed purchases...')\n",
    "other_df = purchase_df.loc[purchase_df[\"Gender\"] == \"Other / Non-Disclosed\"]\n",
    "number_of_other_purchases = other_df['Purchase ID'].count()\n",
    "print(\"Total Number of Purchases: \", number_of_other_purchases)\n",
    "average_other_purchase = other_df['Price'].mean()\n",
    "print(\"Average Purchase: $\", average_other_purchase)\n",
    "total_other_rev = other_df['Price'].sum()\n",
    "print(\"Total revenue: $\", total_other_rev)\n",
    "\n"
   ]
  },
  {
   "cell_type": "code",
   "execution_count": 24,
   "metadata": {
    "scrolled": true
   },
   "outputs": [
    {
     "name": "stdout",
     "output_type": "stream",
     "text": [
      "Number of purchases:  View Group\n",
      "0 to 10       32\n",
      "10 to 14      19\n",
      "15 to 19     136\n",
      "20 to 24     365\n",
      "25 to 29     101\n",
      "30 to 34      73\n",
      "35 to 39      41\n",
      "40 to 44      12\n",
      "45 to 49       1\n",
      "50 and up      0\n",
      "Name: Purchase ID, dtype: int64\n",
      "Sum per age group:  View Group\n",
      "0 to 10       108.96\n",
      "10 to 14       50.95\n",
      "15 to 19      412.89\n",
      "20 to 24     1114.06\n",
      "25 to 29      293.00\n",
      "30 to 34      214.00\n",
      "35 to 39      147.67\n",
      "40 to 44       36.54\n",
      "45 to 49        1.70\n",
      "50 and up       0.00\n",
      "Name: Price, dtype: float64\n",
      "Average purchase price:  View Group\n",
      "0 to 10      3.405000\n",
      "10 to 14     2.681579\n",
      "15 to 19     3.035956\n",
      "20 to 24     3.052219\n",
      "25 to 29     2.900990\n",
      "30 to 34     2.931507\n",
      "35 to 39     3.601707\n",
      "40 to 44     3.045000\n",
      "45 to 49     1.700000\n",
      "50 and up         NaN\n",
      "Name: Price, dtype: float64\n"
     ]
    }
   ],
   "source": [
    "### Age Demographics\n",
    "\n",
    "# * The below each broken into bins of 4 years (i.e. &lt;10, 10-14, 15-19, etc.)\n",
    "#  * Purchase Count\n",
    "#  * Average Purchase Price\n",
    "#  * Total Purchase Value\n",
    "#  * Average Purchase Total per Person by Age Group\n",
    "\n",
    "bins = [0, 10, 14, 19, 24, 29, 34, 39, 44, 49, 250]\n",
    "group_labels = [\"0 to 10\", \"10 to 14\", \"15 to 19\", \"20 to 24\", \"25 to 29\",\n",
    "                \"30 to 34\", \"35 to 39\", \"40 to 44\", \"45 to 49\", \"50 and up\"]\n",
    "\n",
    "copy_df[\"Age Group\"] = pd.cut(copy_df[\"Age\"], bins, labels=group_labels)\n",
    "copy_df.head()\n",
    "\n",
    "purchase_group = copy_df.groupby(\"View Group\")\n",
    "print('Number of purchases: ', purchase_group[\"Purchase ID\"].count())\n",
    "print('Sum per age group: ', purchase_group[\"Price\"].sum())\n",
    "print('Average purchase price: ', purchase_group[\"Price\"].mean())\n",
    "\n",
    "# print(purchase_group[\"Purchase ID\"].count())\n",
    "\n",
    "# # Get the average of each column within the GroupBy object\n",
    "# print(purchase_group[\"Price\"].mean())"
   ]
  },
  {
   "cell_type": "code",
   "execution_count": 35,
   "metadata": {},
   "outputs": [
    {
     "data": {
      "text/plain": [
       "Lisosia93         5\n",
       "Idastidru52       4\n",
       "Iral74            4\n",
       "Lisopela58        3\n",
       "Phyali88          3\n",
       "Ialallo29         3\n",
       "Yathecal82        3\n",
       "Raesty92          3\n",
       "Chamjask73        3\n",
       "Saistyphos30      3\n",
       "Iskadarya95       3\n",
       "Tyidaim51         3\n",
       "Ilarin91          3\n",
       "Idai61            3\n",
       "Strithenu87       3\n",
       "Sondastsda82      3\n",
       "Rarallo90         3\n",
       "Zontibe81         3\n",
       "Asur53            3\n",
       "Iri67             3\n",
       "Silaera56         3\n",
       "Umolrian85        3\n",
       "Aina42            3\n",
       "Chamimla85        3\n",
       "Saedaiphos46      3\n",
       "Chadolyla44       3\n",
       "Aelin32           3\n",
       "Haillyrgue51      3\n",
       "Inguron55         3\n",
       "Chanastnya43      3\n",
       "                 ..\n",
       "Lisassasta50      1\n",
       "Lisassasda39      1\n",
       "Chanirra79        1\n",
       "Haellysu29        1\n",
       "Ririp86           1\n",
       "Frichaststa61     1\n",
       "Malil90           1\n",
       "Ermol76           1\n",
       "Qarirwen82        1\n",
       "Lisassa64         1\n",
       "Thourdirra92      1\n",
       "Irilis75          1\n",
       "Lisjaskan36       1\n",
       "Iathem87          1\n",
       "Mindadaran26      1\n",
       "Hyaduesu61        1\n",
       "Frichossala54     1\n",
       "Chamadar79        1\n",
       "Tyananurgue44     1\n",
       "Qilalista41       1\n",
       "Irith83           1\n",
       "Syathecal44       1\n",
       "Tyaelistidru84    1\n",
       "Assesi91          1\n",
       "Quanrion96        1\n",
       "Thrientossa55     1\n",
       "Ili43             1\n",
       "Sundista37        1\n",
       "Raisty38          1\n",
       "Yalo85            1\n",
       "Name: SN, Length: 576, dtype: int64"
      ]
     },
     "execution_count": 35,
     "metadata": {},
     "output_type": "execute_result"
    }
   ],
   "source": [
    "\n",
    "### Top Spenders\n",
    "\n",
    "# * Identify the the top 5 spenders in the game by total purchase value, then list (in a table):\n",
    "vc = purchase_df['SN'].value_counts()\n",
    "vc\n",
    "      \n",
    "\n",
    "#  * SN\n",
    "#  * Purchase Count\n",
    "#  * Average Purchase Price\n",
    "#  * Total Purchase Value\n"
   ]
  },
  {
   "cell_type": "code",
   "execution_count": null,
   "metadata": {},
   "outputs": [],
   "source": [
    "### Most Popular Items\n",
    "\n",
    "# * Identify the 5 most popular items by purchase count, then list (in a table):\n",
    "#  * Item ID\n",
    "#  * Item Name\n",
    "#  * Purchase Count\n",
    "#  * Item Price\n",
    "#  * Total Purchase Value\n"
   ]
  },
  {
   "cell_type": "code",
   "execution_count": null,
   "metadata": {},
   "outputs": [],
   "source": [
    "### Most Profitable Items\n",
    "\n",
    "# * Identify the 5 most profitable items by total purchase value, then list (in a table):\n",
    "#  * Item ID\n",
    "#  * Item Name\n",
    "#  * Purchase Count\n",
    "#  * Item Price\n",
    "#  * Total Purchase Value\n"
   ]
  }
 ],
 "metadata": {
  "kernelspec": {
   "display_name": "Python 3",
   "language": "python",
   "name": "python3"
  },
  "language_info": {
   "codemirror_mode": {
    "name": "ipython",
    "version": 3
   },
   "file_extension": ".py",
   "mimetype": "text/x-python",
   "name": "python",
   "nbconvert_exporter": "python",
   "pygments_lexer": "ipython3",
   "version": "3.7.0"
  }
 },
 "nbformat": 4,
 "nbformat_minor": 2
}
